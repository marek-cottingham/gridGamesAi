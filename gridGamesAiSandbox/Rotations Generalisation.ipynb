{
 "cells": [
  {
   "cell_type": "code",
   "execution_count": 2,
   "id": "6125018e",
   "metadata": {},
   "outputs": [],
   "source": [
    "import tensorflow as tf\n",
    "import itertools"
   ]
  },
  {
   "cell_type": "code",
   "execution_count": 62,
   "id": "bc7dc232",
   "metadata": {},
   "outputs": [
    {
     "name": "stdout",
     "output_type": "stream",
     "text": [
      "tf.Tensor(\n",
      "[[[ 0  1  2  3  4  5]\n",
      "  [ 6  7  8  9 10 11]\n",
      "  [12 13 14 15 16 17]\n",
      "  [18 19 20 21 22 23]\n",
      "  [24 25 26 27 28 29]\n",
      "  [30 31 32 33 34 35]]\n",
      "\n",
      " [[36 37 38 39 40 41]\n",
      "  [42 43 44 45 46 47]\n",
      "  [48 49 50 51 52 53]\n",
      "  [54 55 56 57 58 59]\n",
      "  [60 61 62 63 64 65]\n",
      "  [66 67 68 69 70 71]]], shape=(2, 6, 6), dtype=int32)\n"
     ]
    }
   ],
   "source": [
    "n = 3\n",
    "d = 2*n\n",
    "testMatrix = tf.reshape( tf.range(d*d*2), (2,d,d) )\n",
    "print(testMatrix)"
   ]
  },
  {
   "cell_type": "code",
   "execution_count": 63,
   "id": "0b414fb1",
   "metadata": {},
   "outputs": [],
   "source": [
    "rot = tf.transpose( tf.tensordot(tf.eye(d,d,dtype=tf.int32), tf.eye(d,d,dtype=tf.int32),0), [0,2,1,3])\n",
    "rot_sub = tf.transpose( tf.tensordot(tf.eye(n,n,dtype=tf.int32), tf.eye(n,n,dtype=tf.int32),0), [0,2,1,3])\n",
    "rot_cw = tf.reverse(tf.transpose(rot_sub, [1,0,2,3]), [0])\n",
    "rot_cc = tf.reverse(tf.transpose(rot_sub, [1,0,2,3]), [1])\n",
    "rotations = {}\n",
    "s = [slice(0,n),slice(n,2*n)]\n",
    "i = [0,1]\n",
    "for perm in itertools.product(i, repeat=2):\n",
    "    sectorName = f\"{perm[0]}{perm[1]}\"\n",
    "    sliceArr = [s[perm[0]],s[perm[1]],s[perm[0]],s[perm[1]]]\n",
    "    x = tf.Variable(rot)\n",
    "    x = x.__getitem__(sliceArr).assign(rot_cw)\n",
    "    rotations[f\"{sectorName}cw\"] = x\n",
    "    x = tf.Variable(rot)\n",
    "    x = x.__getitem__(sliceArr).assign(rot_cc)\n",
    "    rotations[f\"{sectorName}cc\"] = x"
   ]
  },
  {
   "cell_type": "code",
   "execution_count": null,
   "id": "55751734",
   "metadata": {},
   "outputs": [],
   "source": [
    "for name, rot in rotations.items():\n",
    "    res = tf.tensordot(testMatrix, rot, (2))\n",
    "    print(name)\n",
    "    print(res)"
   ]
  },
  {
   "cell_type": "code",
   "execution_count": 81,
   "id": "c46a77fd",
   "metadata": {},
   "outputs": [],
   "source": [
    "win_mapping_tensors = []\n",
    "win_n = 5\n",
    "for i, j in itertools.product(range(d),range(d-win_n+1)):\n",
    "    spaces_map = tf.Variable(tf.zeros((d,d),dtype=tf.int32))\n",
    "    spaces_map = spaces_map[i, j:win_n+j].assign(tf.ones((win_n),dtype=tf.int32))\n",
    "    win_mapping_tensors.append(spaces_map)\n",
    "    spaces_map = tf.Variable(tf.zeros((d,d),dtype=tf.int32))\n",
    "    spaces_map = spaces_map[j:win_n+j, i].assign(tf.ones((win_n),dtype=tf.int32))\n",
    "    win_mapping_tensors.append(spaces_map)\n",
    "for i, j in itertools.product(range(d-win_n+1),repeat=2):\n",
    "    spaces_map = tf.Variable(tf.zeros((d,d),dtype=tf.int32))\n",
    "    spaces_map = spaces_map[i:win_n+i, j:win_n+j].assign(tf.eye(win_n,dtype=tf.int32))\n",
    "    win_mapping_tensors.append(spaces_map)\n",
    "    spaces_map = tf.Variable(tf.zeros((d,d),dtype=tf.int32))\n",
    "    spaces_map = spaces_map[i:win_n+i, j:win_n+j].assign(tf.reverse(tf.eye(win_n,dtype=tf.int32),[0]))\n",
    "    win_mapping_tensors.append(spaces_map)\n",
    "Win = tf.stack(win_mapping_tensors, axis=2)"
   ]
  },
  {
   "cell_type": "code",
   "execution_count": 91,
   "id": "1c3bdaf9",
   "metadata": {},
   "outputs": [
    {
     "name": "stdout",
     "output_type": "stream",
     "text": [
      "tf.Tensor([5 5], shape=(2,), dtype=int32)\n"
     ]
    }
   ],
   "source": [
    "res = tf.reduce_max( tf.tensordot(testMatrix%2, Win, 2), [1] )\n",
    "print(res)"
   ]
  }
 ],
 "metadata": {
  "kernelspec": {
   "display_name": "Python 3.9.4 64-bit",
   "language": "python",
   "name": "python3"
  },
  "language_info": {
   "codemirror_mode": {
    "name": "ipython",
    "version": 3
   },
   "file_extension": ".py",
   "mimetype": "text/x-python",
   "name": "python",
   "nbconvert_exporter": "python",
   "pygments_lexer": "ipython3",
   "version": "3.9.4"
  },
  "vscode": {
   "interpreter": {
    "hash": "81794d4967e6c3204c66dcd87b604927b115b27c00565d3d43f05ba2f3a2cb0d"
   }
  }
 },
 "nbformat": 4,
 "nbformat_minor": 5
}
