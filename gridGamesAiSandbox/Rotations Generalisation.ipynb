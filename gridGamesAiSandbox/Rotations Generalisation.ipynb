{
 "cells": [
  {
   "cell_type": "code",
   "execution_count": 1,
   "id": "6125018e",
   "metadata": {},
   "outputs": [],
   "source": [
    "import tensorflow as tf\n",
    "import itertools"
   ]
  },
  {
   "cell_type": "code",
   "execution_count": 2,
   "id": "bc7dc232",
   "metadata": {},
   "outputs": [
    {
     "name": "stdout",
     "output_type": "stream",
     "text": [
      "tf.Tensor(\n",
      "[[[ 0  1  2  3  4  5]\n",
      "  [ 6  7  8  9 10 11]\n",
      "  [12 13 14 15 16 17]\n",
      "  [18 19 20 21 22 23]\n",
      "  [24 25 26 27 28 29]\n",
      "  [30 31 32 33 34 35]]\n",
      "\n",
      " [[36 37 38 39 40 41]\n",
      "  [42 43 44 45 46 47]\n",
      "  [48 49 50 51 52 53]\n",
      "  [54 55 56 57 58 59]\n",
      "  [60 61 62 63 64 65]\n",
      "  [66 67 68 69 70 71]]], shape=(2, 6, 6), dtype=int32)\n"
     ]
    }
   ],
   "source": [
    "n = 3\n",
    "d = 2*n\n",
    "testMatrix = tf.reshape( tf.range(d*d*2), (2,d,d) )\n",
    "print(testMatrix)"
   ]
  },
  {
   "cell_type": "code",
   "execution_count": 3,
   "id": "0b414fb1",
   "metadata": {},
   "outputs": [],
   "source": [
    "rot = tf.transpose( tf.tensordot(tf.eye(d,d,dtype=tf.int32), tf.eye(d,d,dtype=tf.int32),0), [0,2,1,3])\n",
    "rot_sub = tf.transpose( tf.tensordot(tf.eye(n,n,dtype=tf.int32), tf.eye(n,n,dtype=tf.int32),0), [0,2,1,3])\n",
    "rot_cw = tf.reverse(tf.transpose(rot_sub, [1,0,2,3]), [0])\n",
    "rot_cc = tf.reverse(tf.transpose(rot_sub, [1,0,2,3]), [1])\n",
    "rotations = {}\n",
    "s = [slice(0,n),slice(n,2*n)]\n",
    "i = [0,1]\n",
    "for perm in itertools.product(i, repeat=2):\n",
    "    sectorName = f\"{perm[0]}{perm[1]}\"\n",
    "    sliceArr = [s[perm[0]],s[perm[1]],s[perm[0]],s[perm[1]]]\n",
    "    x = tf.Variable(rot)\n",
    "    x = x.__getitem__(sliceArr).assign(rot_cw)\n",
    "    rotations[f\"{sectorName}cw\"] = x\n",
    "    x = tf.Variable(rot)\n",
    "    x = x.__getitem__(sliceArr).assign(rot_cc)\n",
    "    rotations[f\"{sectorName}cc\"] = x"
   ]
  },
  {
   "cell_type": "code",
   "execution_count": 4,
   "id": "55751734",
   "metadata": {},
   "outputs": [
    {
     "name": "stdout",
     "output_type": "stream",
     "text": [
      "00cw\n",
      "tf.Tensor(\n",
      "[[[12  6  0  3  4  5]\n",
      "  [13  7  1  9 10 11]\n",
      "  [14  8  2 15 16 17]\n",
      "  [18 19 20 21 22 23]\n",
      "  [24 25 26 27 28 29]\n",
      "  [30 31 32 33 34 35]]\n",
      "\n",
      " [[48 42 36 39 40 41]\n",
      "  [49 43 37 45 46 47]\n",
      "  [50 44 38 51 52 53]\n",
      "  [54 55 56 57 58 59]\n",
      "  [60 61 62 63 64 65]\n",
      "  [66 67 68 69 70 71]]], shape=(2, 6, 6), dtype=int32)\n",
      "00cc\n",
      "tf.Tensor(\n",
      "[[[ 2  8 14  3  4  5]\n",
      "  [ 1  7 13  9 10 11]\n",
      "  [ 0  6 12 15 16 17]\n",
      "  [18 19 20 21 22 23]\n",
      "  [24 25 26 27 28 29]\n",
      "  [30 31 32 33 34 35]]\n",
      "\n",
      " [[38 44 50 39 40 41]\n",
      "  [37 43 49 45 46 47]\n",
      "  [36 42 48 51 52 53]\n",
      "  [54 55 56 57 58 59]\n",
      "  [60 61 62 63 64 65]\n",
      "  [66 67 68 69 70 71]]], shape=(2, 6, 6), dtype=int32)\n",
      "01cw\n",
      "tf.Tensor(\n",
      "[[[ 0  1  2 15  9  3]\n",
      "  [ 6  7  8 16 10  4]\n",
      "  [12 13 14 17 11  5]\n",
      "  [18 19 20 21 22 23]\n",
      "  [24 25 26 27 28 29]\n",
      "  [30 31 32 33 34 35]]\n",
      "\n",
      " [[36 37 38 51 45 39]\n",
      "  [42 43 44 52 46 40]\n",
      "  [48 49 50 53 47 41]\n",
      "  [54 55 56 57 58 59]\n",
      "  [60 61 62 63 64 65]\n",
      "  [66 67 68 69 70 71]]], shape=(2, 6, 6), dtype=int32)\n",
      "01cc\n",
      "tf.Tensor(\n",
      "[[[ 0  1  2  5 11 17]\n",
      "  [ 6  7  8  4 10 16]\n",
      "  [12 13 14  3  9 15]\n",
      "  [18 19 20 21 22 23]\n",
      "  [24 25 26 27 28 29]\n",
      "  [30 31 32 33 34 35]]\n",
      "\n",
      " [[36 37 38 41 47 53]\n",
      "  [42 43 44 40 46 52]\n",
      "  [48 49 50 39 45 51]\n",
      "  [54 55 56 57 58 59]\n",
      "  [60 61 62 63 64 65]\n",
      "  [66 67 68 69 70 71]]], shape=(2, 6, 6), dtype=int32)\n",
      "10cw\n",
      "tf.Tensor(\n",
      "[[[ 0  1  2  3  4  5]\n",
      "  [ 6  7  8  9 10 11]\n",
      "  [12 13 14 15 16 17]\n",
      "  [30 24 18 21 22 23]\n",
      "  [31 25 19 27 28 29]\n",
      "  [32 26 20 33 34 35]]\n",
      "\n",
      " [[36 37 38 39 40 41]\n",
      "  [42 43 44 45 46 47]\n",
      "  [48 49 50 51 52 53]\n",
      "  [66 60 54 57 58 59]\n",
      "  [67 61 55 63 64 65]\n",
      "  [68 62 56 69 70 71]]], shape=(2, 6, 6), dtype=int32)\n",
      "10cc\n",
      "tf.Tensor(\n",
      "[[[ 0  1  2  3  4  5]\n",
      "  [ 6  7  8  9 10 11]\n",
      "  [12 13 14 15 16 17]\n",
      "  [20 26 32 21 22 23]\n",
      "  [19 25 31 27 28 29]\n",
      "  [18 24 30 33 34 35]]\n",
      "\n",
      " [[36 37 38 39 40 41]\n",
      "  [42 43 44 45 46 47]\n",
      "  [48 49 50 51 52 53]\n",
      "  [56 62 68 57 58 59]\n",
      "  [55 61 67 63 64 65]\n",
      "  [54 60 66 69 70 71]]], shape=(2, 6, 6), dtype=int32)\n",
      "11cw\n",
      "tf.Tensor(\n",
      "[[[ 0  1  2  3  4  5]\n",
      "  [ 6  7  8  9 10 11]\n",
      "  [12 13 14 15 16 17]\n",
      "  [18 19 20 33 27 21]\n",
      "  [24 25 26 34 28 22]\n",
      "  [30 31 32 35 29 23]]\n",
      "\n",
      " [[36 37 38 39 40 41]\n",
      "  [42 43 44 45 46 47]\n",
      "  [48 49 50 51 52 53]\n",
      "  [54 55 56 69 63 57]\n",
      "  [60 61 62 70 64 58]\n",
      "  [66 67 68 71 65 59]]], shape=(2, 6, 6), dtype=int32)\n",
      "11cc\n",
      "tf.Tensor(\n",
      "[[[ 0  1  2  3  4  5]\n",
      "  [ 6  7  8  9 10 11]\n",
      "  [12 13 14 15 16 17]\n",
      "  [18 19 20 23 29 35]\n",
      "  [24 25 26 22 28 34]\n",
      "  [30 31 32 21 27 33]]\n",
      "\n",
      " [[36 37 38 39 40 41]\n",
      "  [42 43 44 45 46 47]\n",
      "  [48 49 50 51 52 53]\n",
      "  [54 55 56 59 65 71]\n",
      "  [60 61 62 58 64 70]\n",
      "  [66 67 68 57 63 69]]], shape=(2, 6, 6), dtype=int32)\n"
     ]
    }
   ],
   "source": [
    "for name, rot in rotations.items():\n",
    "    res = tf.tensordot(testMatrix, rot, (2))\n",
    "    print(name)\n",
    "    print(res)"
   ]
  },
  {
   "cell_type": "code",
   "execution_count": 5,
   "id": "c46a77fd",
   "metadata": {},
   "outputs": [],
   "source": [
    "win_mapping_tensors = []\n",
    "win_n = 5\n",
    "for i, j in itertools.product(range(d),range(d-win_n+1)):\n",
    "    spaces_map = tf.Variable(tf.zeros((d,d),dtype=tf.int32))\n",
    "    spaces_map = spaces_map[i, j:win_n+j].assign(tf.ones((win_n),dtype=tf.int32))\n",
    "    win_mapping_tensors.append(spaces_map)\n",
    "    spaces_map = tf.Variable(tf.zeros((d,d),dtype=tf.int32))\n",
    "    spaces_map = spaces_map[j:win_n+j, i].assign(tf.ones((win_n),dtype=tf.int32))\n",
    "    win_mapping_tensors.append(spaces_map)\n",
    "for i, j in itertools.product(range(d-win_n+1),repeat=2):\n",
    "    spaces_map = tf.Variable(tf.zeros((d,d),dtype=tf.int32))\n",
    "    spaces_map = spaces_map[i:win_n+i, j:win_n+j].assign(tf.eye(win_n,dtype=tf.int32))\n",
    "    win_mapping_tensors.append(spaces_map)\n",
    "    spaces_map = tf.Variable(tf.zeros((d,d),dtype=tf.int32))\n",
    "    spaces_map = spaces_map[i:win_n+i, j:win_n+j].assign(tf.reverse(tf.eye(win_n,dtype=tf.int32),[0]))\n",
    "    win_mapping_tensors.append(spaces_map)\n",
    "Win = tf.stack(win_mapping_tensors, axis=2)"
   ]
  },
  {
   "cell_type": "code",
   "execution_count": 6,
   "id": "1c3bdaf9",
   "metadata": {},
   "outputs": [
    {
     "name": "stdout",
     "output_type": "stream",
     "text": [
      "tf.Tensor([5 5], shape=(2,), dtype=int32)\n"
     ]
    }
   ],
   "source": [
    "res = tf.reduce_max( tf.tensordot(testMatrix%2, Win, 2), [1] )\n",
    "print(res)"
   ]
  },
  {
   "cell_type": "code",
   "execution_count": 11,
   "id": "f6fd6373",
   "metadata": {},
   "outputs": [
    {
     "name": "stdout",
     "output_type": "stream",
     "text": [
      "tf.Tensor([ True  True], shape=(2,), dtype=bool)\n",
      "test\n"
     ]
    }
   ],
   "source": [
    "a = tf.equal(res, 5)\n",
    "print(a)\n",
    "if a[0]:\n",
    "    print(\"test\")"
   ]
  }
 ],
 "metadata": {
  "kernelspec": {
   "display_name": "Python 3.9.4 64-bit",
   "language": "python",
   "name": "python3"
  },
  "language_info": {
   "codemirror_mode": {
    "name": "ipython",
    "version": 3
   },
   "file_extension": ".py",
   "mimetype": "text/x-python",
   "name": "python",
   "nbconvert_exporter": "python",
   "pygments_lexer": "ipython3",
   "version": "3.9.4"
  },
  "vscode": {
   "interpreter": {
    "hash": "81794d4967e6c3204c66dcd87b604927b115b27c00565d3d43f05ba2f3a2cb0d"
   }
  }
 },
 "nbformat": 4,
 "nbformat_minor": 5
}
